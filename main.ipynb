import tkinter as tk
import numpy as np
from ipynb.fs.full.homes import *

#HOME CLASS
class home:
    def __init__(self, master):
        self.master = master
        self.frame = tk.Frame(self.master)
        self.master.title("Jason's Multi Calculator")
        self.percentHome = tk.Button(self.master, text = "Percent Calculations", command = self.open_percent_home, width = "30")
        self.percentHome.grid(row = 1, column = 0)
        self.chemistryHome = tk.Button(self.master, text = "Chemistry Calculations", command = self.open_chemistry_home, width = "30")
        self.chemistryHome.grid(row = 1, column = 1)
        self.physicsHome = tk.Button(self.master, text = "Physics Calculations", command = self.open_physics_home, width = "30")
        self.physicsHome.grid(row = 2, column = 0)
        self.geometryHome = tk.Button(self.master, text = "Geometry Calculations", command = self.open_geometry_home, width = "30")
        self.geometryHome.grid(row = 2, column = 1)
        
    def open_percent_home(self):
        self.newWindow = tk.Toplevel(self.master)
        self.app = percent_home(self.newWindow)
    def open_chemistry_home(self):
        self.newWindow = tk.Toplevel(self.master)
        self.app = chemistry_home(self.newWindow)
    def open_physics_home(self):
        self.newWindow = tk.Toplevel(self.master)
        self.app = physics_home(self.newWindow)
    def open_geometry_home(self):
        self.newWindow = tk.Toplevel(self.master)
        self.app = geometry_home(self.newWindow)
        
def checkFloat(value):
    try:
        value = float(value)
        return True
    except:
        return False
    
def checkInt(value):
    try: 
        value = int(value)
        return True
    except:
        return False

def shortenFloat(value, end):
    value = str(value)
    start =  value.find(".")
    if(len(value[start : len(value)]) > end):
        return float(str(value[0 : start]) + str(value[start: start + end+1]))
    else:
        return float(value)
    
def main():
    root = tk.Tk()
    app = home(root)
    root.mainloop()

if __name__ == "__main__":
    main()
