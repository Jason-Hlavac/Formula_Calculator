import tkinter as tk
import numpy as np
from ipynb.fs.full.percent_windows import *
from ipynb.fs.full.chemistry_windows import *
from ipynb.fs.full.physics_windows import *
from ipynb.fs.full.geometry_windows import *

#PERCENT HOME CLASS
class percent_home:
    def __init__(self, master):
        self.master = master
        self.frame = tk.Frame(self.master)
        tk.Label(self.master, text = "Percent Calculations:").grid(row = 0, column = 0)
        self.fractionToPercent = tk.Button(self.master, text = "Fraction to Percent", command = self.fraction_to_percent, width = "30")
        self.fractionToPercent.grid(row = 2, column = 0)
        self.doublingTime = tk.Button(self.master, text = "Doubling Time", command = self.doubling_time, width = "30")
        self.doublingTime.grid(row = 2, column = 1)
        self.diceRoll = tk.Button(self.master, text = "Dice Roll Probability", command = self.dice_roll, width = "30")
        self.diceRoll.grid(row = 4, column = 0)
        self.combination = tk.Button(self.master, text = "Combinations", command = self.combinations ,width = "30")
        self.frame.grid(row = 0, column = 0)
        
    def fraction_to_percent(self):
        self.newWindow = tk.Toplevel(self.master)
        self.app = fraction_to_percent_window(self.newWindow)
    def doubling_time(self):
        self.newWindow = tk.Toplevel(self.master)
        self.app = doubling_time_window(self.newWindow)
    def dice_roll(self):
        self.newWindow = tk.Toplevel(self.master)
        self.app = dice_roll_window(self.newWindow)
    def combinations(self):
        self.newWindow = tk.Toplevel(self.master)
        self.app = combinations_window(self.newWindow)
        

#CHEMISTRY HOME CLASS
class chemistry_home:
    def __init__(self, master):
        self.master = master
        self.frame = tk.Frame(self.master)
        tk.Label(self.master, text = "Chemistry Calculations:").grid(row = 0, column = 0)
        self.gramsToMoles = tk.Button(self.master, text = "Grams to Moles", command = self.grams_to_moles, width = "30")
        self.gramsToMoles.grid(row = 2, column = 0)
        self.molality = tk.Button(self.master, text = "Molality", command = self.molality, width = "30")
        self.molality.grid(row = 2, column = 1)
        self.percentYield = tk.Button(self.master, text = "Percent Yield", command = self.percent_yield, width = "30")
        self.percentYield.grid(row = 3, column = 0)
        self.ppmToMolarity = tk.Button(self.master, text = "PPM to Molarity", command = self.ppm_to_molarity, width = "30")
        self.ppmToMolarity.grid(row = 3, column = 1)
        
    def grams_to_moles(self):
        self.newWindow = tk.Toplevel(self.master)
        self.app = grams_to_moles_window(self.newWindow)
    def molality(self):
        self.newWindow = tk.Toplevel(self.master)
        self.app = molality_window(self.newWindow)
    def percent_yield(self):
        self.newWindow = tk.Toplevel(self.master)
        self.app = percent_yield_window(self.newWindow)
    def ppm_to_molarity(self):
        self.newWindow = tk.Toplevel(self.master)
        self.app = ppm_to_molarity_window(self.newWindow)

#PHYSICS HOME CLASS
class physics_home:
    def __init__(self, master):
        self.master = master
        self.frame = tk.Frame(self.master)
        tk.Label(self.master, text = "Physics Calculations:").grid(row = 0, column = 0)
        self.leverMA = tk.Button(self.master, text = "Lever Mechanical Advantage", command = self.leverMA, width = "30")
        self.leverMA.grid(row = 1, column = 0)
        self.freeFall = tk.Button(self.master, text = "Free Fall", command = self.free_fall, width = "30",)
        self.freeFall.grid(row = 1, column = 1)
        self.maxHeight = tk.Button(self.master, text = "Max Height", command = self.max_height, width = "30",)
        self.maxHeight.grid(row = 2, column = 0)
        self.normalForce = tk.Button(self.master, text = "Normal Force", command = self.normal_force, width = "30",)
        self.normalForce.grid(row = 2, column = 1)
    def leverMA(self):
        self.newWindow = tk.Toplevel(self.master)
        self.app = lever_MA_window(self.newWindow)
    def free_fall(self):
        self.newWindow = tk.Toplevel(self.master)
        self.app = free_fall_window(self.newWindow)
    def max_height(self):
        self.newWindow = tk.Toplevel(self.master)
        self.app = max_height_window(self.newWindow)
    def normal_force(self):
        self.newWindow = tk.Toplevel(self.master)
        self.app = normal_force_window(self.newWindow)
        
#GEOMETRY HOME
class geometry_home:
    def __init__(self, master):
        self.master = master
        self.frame = tk.Frame(self.master)
        tk.Label(self.master, text = "Geometry Calculations:").grid(row = 0, column = 0)
        self.pythagorean = tk.Button(self.master, text = "Pythagorean Theorem", command = self.pythagorean, width = "30")
        self.pythagorean.grid(row = 1, column = 0)
        self.distanceBetween = tk.Button(self.master, text = "Distance Between 2 Points", command = self.distance_between, width = "30",)
        self.distanceBetween.grid(row = 1, column = 1)
        self.sphereVolume = tk.Button(self.master, text = "Sphere Volume", command = self.sphere_volume, width = "30",)
        self.sphereVolume.grid(row = 2, column = 0)
        self.cubeArea = tk.Button(self.master, text = "Cube Surface Area", command = self.cube_area, width = "30",)
        self.cubeArea.grid(row = 2, column = 1)
    
    def pythagorean(self):
        self.newWindow = tk.Toplevel(self.master)
        self.app = pythagorean_window(self.newWindow)
    def distance_between(self):
        self.newWindow = tk.Toplevel(self.master)
        self.app = distance_between_window(self.newWindow)
    def sphere_volume(self):
        self.newWindow = tk.Toplevel(self.master)
        self.app = sphere_volume_window(self.newWindow)
    def cube_area(self):
        self.newWindow = tk.Toplevel(self.master)
        self.app = cube_area_window(self.newWindow)
